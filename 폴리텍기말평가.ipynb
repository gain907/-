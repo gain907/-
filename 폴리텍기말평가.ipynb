{
  "nbformat": 4,
  "nbformat_minor": 0,
  "metadata": {
    "colab": {
      "provenance": []
    },
    "kernelspec": {
      "name": "python3",
      "display_name": "Python 3"
    },
    "language_info": {
      "name": "python"
    }
  },
  "cells": [
    {
      "cell_type": "markdown",
      "source": [
        "#[기말평가]"
      ],
      "metadata": {
        "id": "l6QnbXz_C6-E"
      }
    },
    {
      "cell_type": "markdown",
      "source": [
        "### Decision Tree 모델을 이용해서 IRIS 데이터 학습\n"
      ],
      "metadata": {
        "id": "NFjInv_BC21M"
      }
    },
    {
      "cell_type": "markdown",
      "source": [
        "###[문제1]\n",
        " - 드라이브 마운트\n",
        " - 데이터 다운로드\n"
      ],
      "metadata": {
        "id": "kQ1wODTdCK__"
      }
    },
    {
      "cell_type": "code",
      "source": [],
      "metadata": {
        "id": "OdbX11v6CP2N"
      },
      "execution_count": null,
      "outputs": []
    },
    {
      "cell_type": "markdown",
      "source": [
        "###[문제2]데이터 가져오기(5)"
      ],
      "metadata": {
        "id": "YJqX_8iCDd2f"
      }
    },
    {
      "cell_type": "code",
      "source": [],
      "metadata": {
        "id": "tSR4lufjCSVl"
      },
      "execution_count": null,
      "outputs": []
    },
    {
      "cell_type": "markdown",
      "source": [
        "###[문제3] 데이터 정보 가져오기(5)"
      ],
      "metadata": {
        "id": "xwfA_bjb6CWB"
      }
    },
    {
      "cell_type": "code",
      "source": [],
      "metadata": {
        "id": "BwMBJzitCUWX"
      },
      "execution_count": null,
      "outputs": []
    },
    {
      "cell_type": "markdown",
      "source": [
        "###[문제4] 데이터 통계값 가져오기(5)"
      ],
      "metadata": {
        "id": "Zx_e_B9R6Jlp"
      }
    },
    {
      "cell_type": "code",
      "source": [],
      "metadata": {
        "id": "xdq3WZEdCXFS"
      },
      "execution_count": null,
      "outputs": []
    },
    {
      "cell_type": "markdown",
      "source": [
        "###[문제5] 문제, 답지 나누기(5)"
      ],
      "metadata": {
        "id": "mPQPyujs68ZQ"
      }
    },
    {
      "cell_type": "code",
      "source": [],
      "metadata": {
        "id": "ovfg8_6ECd9J"
      },
      "execution_count": null,
      "outputs": []
    },
    {
      "cell_type": "markdown",
      "source": [
        "### [문제6] train, test 데이터를 8:2 비율로 나누기(5)"
      ],
      "metadata": {
        "id": "S8iT3XR2Fx5B"
      }
    },
    {
      "cell_type": "code",
      "source": [],
      "metadata": {
        "id": "asPDZNarF5wo"
      },
      "execution_count": null,
      "outputs": []
    },
    {
      "cell_type": "markdown",
      "source": [
        "###[문제7] Decision Tree 모델 생성 및 학습(5)\n",
        "\n",
        "- 모델 생성\n",
        "- 모델 학습"
      ],
      "metadata": {
        "id": "ffoVXuh6HPAx"
      }
    },
    {
      "cell_type": "code",
      "source": [
        "# 모델 생성"
      ],
      "metadata": {
        "id": "3rbLzhhsDlRH"
      },
      "execution_count": null,
      "outputs": []
    },
    {
      "cell_type": "code",
      "source": [
        "# 모델 학습"
      ],
      "metadata": {
        "id": "Kkz9o9huEDCW"
      },
      "execution_count": null,
      "outputs": []
    },
    {
      "cell_type": "markdown",
      "source": [
        "###[문제8] 모델 예측(5)"
      ],
      "metadata": {
        "id": "1VRABGfpEJ7N"
      }
    },
    {
      "cell_type": "code",
      "source": [],
      "metadata": {
        "id": "CuAKc1wyEPlO"
      },
      "execution_count": null,
      "outputs": []
    },
    {
      "cell_type": "markdown",
      "source": [
        "### [문제9] graphviz로 출력파일 제작 및 출력 (10)"
      ],
      "metadata": {
        "id": "im0BQxhlGHkm"
      }
    },
    {
      "cell_type": "code",
      "source": [
        "# 출력파일 제작"
      ],
      "metadata": {
        "id": "wEJCxNS8EtYE"
      },
      "execution_count": null,
      "outputs": []
    },
    {
      "cell_type": "code",
      "source": [
        "# 출력파일 출력"
      ],
      "metadata": {
        "id": "lzwdklWlEyCH"
      },
      "execution_count": 1,
      "outputs": []
    },
    {
      "cell_type": "markdown",
      "source": [
        "### [문제10] 하이퍼 파라미터 튜닝( max_depth를 변경)(10)\n",
        "- 2번째 모델 생성\n",
        "- 학습 및 예측\n",
        "- 파일 생성\n",
        "- 파일 출력"
      ],
      "metadata": {
        "id": "Gc_lu3UEIjIb"
      }
    },
    {
      "cell_type": "code",
      "source": [],
      "metadata": {
        "id": "sWqcKg1TFZsY"
      },
      "execution_count": null,
      "outputs": []
    },
    {
      "cell_type": "markdown",
      "source": [
        "###[문제11] 모델 정확도 평가 (5)\n",
        "- 첫번째 모델과 두번째 모델의 정확도 평가"
      ],
      "metadata": {
        "id": "6WQN200jJF0i"
      }
    },
    {
      "cell_type": "code",
      "source": [],
      "metadata": {
        "id": "f3-i8Q7HFsyL"
      },
      "execution_count": null,
      "outputs": []
    },
    {
      "cell_type": "markdown",
      "source": [
        "###[문제12] 특징 중에서 가장 중요도가 높은 특징을 bar 그래프로 출력하시오(10)\n"
      ],
      "metadata": {
        "id": "16DLNlo5JaUj"
      }
    },
    {
      "cell_type": "code",
      "source": [],
      "metadata": {
        "id": "YuPgTEcpGDke"
      },
      "execution_count": 1,
      "outputs": []
    },
    {
      "cell_type": "markdown",
      "source": [
        "###[문제13] 첫번째 모델과 두번째 모델중에서 어떤 모델의 성능이 더 높았는지 수치로 작성해 주세요(10)\n",
        "- 예) tree1 : 99% , tree2 : 98%"
      ],
      "metadata": {
        "id": "DEChwYp4GSVP"
      }
    },
    {
      "cell_type": "markdown",
      "source": [
        "###[문제14] 하이퍼 파라미터 튜닝을 하는 이유는?(10)"
      ],
      "metadata": {
        "id": "qONg8lNVGkb9"
      }
    },
    {
      "cell_type": "code",
      "source": [],
      "metadata": {
        "id": "T1f5yIinGbGC"
      },
      "execution_count": null,
      "outputs": []
    },
    {
      "cell_type": "markdown",
      "source": [
        "###[문제15] 원 핫 인코딩을 설명하시오(10)"
      ],
      "metadata": {
        "id": "rLTs6ONkHatJ"
      }
    },
    {
      "cell_type": "code",
      "source": [],
      "metadata": {
        "id": "1SdRUQzJHtEk"
      },
      "execution_count": null,
      "outputs": []
    }
  ]
}
